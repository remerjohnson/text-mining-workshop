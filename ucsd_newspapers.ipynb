{
 "cells": [
  {
   "cell_type": "markdown",
   "metadata": {},
   "source": [
    "First let's change our current working directory to the folder where the data is located using `os.chdir`"
   ]
  },
  {
   "cell_type": "code",
   "execution_count": 57,
   "metadata": {
    "collapsed": false
   },
   "outputs": [],
   "source": [
    "import os\n",
    "os.chdir(\"E:\\\\Code Projects\\\\UCSD Newspapers\\\\ucsdHistory_raw 2\\\\ucsdHistory_raw\")"
   ]
  },
  {
   "cell_type": "markdown",
   "metadata": {},
   "source": [
    "Let's confirm that the changes are in effect by checking the current working directory:"
   ]
  },
  {
   "cell_type": "code",
   "execution_count": 58,
   "metadata": {
    "collapsed": false
   },
   "outputs": [
    {
     "data": {
      "text/plain": [
       "'E:\\\\Code Projects\\\\UCSD Newspapers\\\\ucsdHistory_raw 2\\\\ucsdHistory_raw'"
      ]
     },
     "execution_count": 58,
     "metadata": {},
     "output_type": "execute_result"
    }
   ],
   "source": [
    "os.getcwd()"
   ]
  },
  {
   "cell_type": "markdown",
   "metadata": {},
   "source": [
    "Now let's open one of the newspaper's files and have a look at the contents. We'll start with the *Student Newspapers*, just because it's listed first alphabetically. We'll list all the files in the directory, open the first one and inspect the content by displaying the first 2000 characters in the file."
   ]
  },
  {
   "cell_type": "code",
   "execution_count": 59,
   "metadata": {
    "collapsed": false
   },
   "outputs": [
    {
     "data": {
      "text/plain": [
       "['bb0001069r-1.pdf.txt',\n",
       " 'bb0001070k-1.pdf.txt',\n",
       " 'bb0035197d-1.pdf.txt',\n",
       " 'bb0035198x-1.pdf.txt',\n",
       " 'bb0035199f-1.pdf.txt',\n",
       " 'bb0035200w-1.pdf.txt',\n",
       " 'bb0069327q-1.pdf.txt',\n",
       " 'bb00693287-1.pdf.txt',\n",
       " 'bb0069329r-1.pdf.txt',\n",
       " 'bb01034597-1.pdf.txt']"
      ]
     },
     "execution_count": 59,
     "metadata": {},
     "output_type": "execute_result"
    }
   ],
   "source": [
    "journal_name = 'Student Newspapers'\n",
    "path = os.path.join(os.getcwd(), journal_name)\n",
    "files = os.listdir(path)\n",
    "files[:10]"
   ]
  },
  {
   "cell_type": "markdown",
   "metadata": {},
   "source": [
    "`os.listdir()` returns the names of the files but not their path, which we need to be able to open them. For now we'll just use `os.path.join()` again."
   ]
  },
  {
   "cell_type": "code",
   "execution_count": 60,
   "metadata": {
    "collapsed": false
   },
   "outputs": [
    {
     "ename": "UnicodeDecodeError",
     "evalue": "'cp949' codec can't decode byte 0xe2 in position 112: illegal multibyte sequence",
     "output_type": "error",
     "traceback": [
      "\u001b[0;31m---------------------------------------------------------------------------\u001b[0m",
      "\u001b[0;31mUnicodeDecodeError\u001b[0m                        Traceback (most recent call last)",
      "\u001b[0;32m<ipython-input-60-07ba77832afe>\u001b[0m in \u001b[0;36m<module>\u001b[0;34m()\u001b[0m\n\u001b[1;32m      1\u001b[0m \u001b[0mfile\u001b[0m \u001b[1;33m=\u001b[0m \u001b[0mos\u001b[0m\u001b[1;33m.\u001b[0m\u001b[0mpath\u001b[0m\u001b[1;33m.\u001b[0m\u001b[0mjoin\u001b[0m\u001b[1;33m(\u001b[0m\u001b[0mpath\u001b[0m\u001b[1;33m,\u001b[0m \u001b[0mfiles\u001b[0m\u001b[1;33m[\u001b[0m\u001b[1;36m0\u001b[0m\u001b[1;33m]\u001b[0m\u001b[1;33m)\u001b[0m\u001b[1;33m\u001b[0m\u001b[0m\n\u001b[1;32m      2\u001b[0m \u001b[1;32mwith\u001b[0m \u001b[0mopen\u001b[0m\u001b[1;33m(\u001b[0m\u001b[0mfile\u001b[0m\u001b[1;33m,\u001b[0m \u001b[1;34m'r'\u001b[0m\u001b[1;33m)\u001b[0m \u001b[1;32mas\u001b[0m \u001b[0mfp\u001b[0m\u001b[1;33m:\u001b[0m\u001b[1;33m\u001b[0m\u001b[0m\n\u001b[0;32m----> 3\u001b[0;31m     \u001b[0mcontent\u001b[0m \u001b[1;33m=\u001b[0m \u001b[0mfp\u001b[0m\u001b[1;33m.\u001b[0m\u001b[0mread\u001b[0m\u001b[1;33m(\u001b[0m\u001b[1;33m)\u001b[0m\u001b[1;33m\u001b[0m\u001b[0m\n\u001b[0m\u001b[1;32m      4\u001b[0m \u001b[1;33m\u001b[0m\u001b[0m\n\u001b[1;32m      5\u001b[0m \u001b[0mcontent\u001b[0m\u001b[1;33m[\u001b[0m\u001b[1;33m:\u001b[0m\u001b[1;36m2000\u001b[0m\u001b[1;33m]\u001b[0m\u001b[1;33m\u001b[0m\u001b[0m\n",
      "\u001b[0;31mUnicodeDecodeError\u001b[0m: 'cp949' codec can't decode byte 0xe2 in position 112: illegal multibyte sequence"
     ]
    }
   ],
   "source": [
    "file = os.path.join(path, files[0])\n",
    "with open(file, 'r') as fp:\n",
    "    content = fp.read()\n",
    "    \n",
    "content[:2000]"
   ]
  },
  {
   "cell_type": "markdown",
   "metadata": {},
   "source": [
    "Woops. Encoding error. Let's fix this by specifying the encoding"
   ]
  },
  {
   "cell_type": "code",
   "execution_count": 64,
   "metadata": {
    "collapsed": false
   },
   "outputs": [
    {
     "data": {
      "text/plain": [
       "'\\nInleS\\nvo,.2,o.t i\\n\\nS.D. State\\nSummer\\nSchool\\n350 classes in 36 depart-\\n\\nments will be offered in San\\nDiego State’s summer ses-\\nsions. The courses will lead\\nto bachelor of science, bache-\\nlor of arts, teaching creden-\\ntials and master’s degrees.\\nThe intersession, first of\\n\\nthe three siimmor ~o~inn~\\nruns from June 13 to June 24.\\nStudents may earn up to two\\nacademic units of credit (3\\nquarter units at UCSD).\\nTerm 1, a six-week session,\\n\\nwill follow, from June 27 to\\nAugust 5, with a maximum of\\nsix units of credit being of-\\nfered. Registration will be\\nheld on June 27.\\nThe final summer session,\\n\\nTerm 2, will be a three-week\\nsession from August 8 to\\nAugust 27. Three academic\\nunits may be earned. Regis-\\ntration will be held on Au-\\ngu st 8.\\nSummer fees will be $18.50\\n\\nfor each semester unit, with\\na parking fee of $5 required\\nonly during the six week ses-\\nsion, Term 1.\\n\\nSan Diego, California\\n\\nBIG MEN VOTE \"NO\" ON GUANO: Riparm riparia, the cliff\\nswallow, will have to find o friendlier nesting place than the\\nUCSD Library. (See \"Guest Editorial\"\\n\\nThree Professors Make\\nAmerican Academy\\n\\nDr. Pearce\\n\\ntors, historians, writers and\\nartists. Four women were\\nhonored and 10 foreign coun-\\ntries, including Russia,\\nEngland, Israel and Greece,\\nwere represented.\\nAs Chairman of the Depart-\\n\\nment of Neuroscience, Dr.\\nLivingston heads the first\\ndepartment established at\\nthe UCSD School of Medi-\\ncine. He was born in Boston,\\nMassachusetts and received\\nboth his undergraduate and\\nmedical degrees from Stan-\\nford University. He was asso-\\nciated with the National\\nInstitutes of Health prior to\\njoining the UCSD faculty in\\n1965.\\nDr. Pearce received his\\n\\nB.S. and M.A. degrees from\\nUCLA and his Ph.D. from\\nJohns Hopkins University in\\n1945. He is the author of many\\nbooks, his principal works\\nbeing The Savages of America,\\n\\nDr. Livingston\\n\\nThree faculty members\\nfrom the University of Cal-\\nifornia, San Diego have been\\nnamed among 150 leaders of\\nscholarship, the professions,\\nbusiness and international af-\\nfairs'"
      ]
     },
     "execution_count": 64,
     "metadata": {},
     "output_type": "execute_result"
    }
   ],
   "source": [
    "file = os.path.join(path, files[0])\n",
    "with open(file, 'r', encoding = 'utf8') as fp:\n",
    "    content = fp.read()\n",
    "    \n",
    "content[:2000]"
   ]
  },
  {
   "cell_type": "markdown",
   "metadata": {},
   "source": [
    "First, let's get rid of the hyphenation using regular expressions (for which we'll need the **re** package). We'll create a specific function for it:"
   ]
  },
  {
   "cell_type": "code",
   "execution_count": 65,
   "metadata": {
    "collapsed": false
   },
   "outputs": [
    {
     "data": {
      "text/plain": [
       "'\\nInleS\\nvo,.2,o.t i\\n\\nS.D. State\\nSummer\\nSchool\\n350 classes in 36 departments will be offered in San\\nDiego State’s summer sessions. The courses will lead\\nto bachelor of science, bachelor of arts, teaching credentials and master’s degrees.\\nThe intersession, first of\\n\\nthe three siimmor ~o~inn~\\nruns from June 13 to June 24.\\nStudents may earn up to two\\nacademic units of credit (3\\nquarter units at UCSD).\\nTerm 1, a six-week session,\\n\\nwill follow, from June 27 to\\nAugust 5, with a maximum of\\nsix units of credit being offered. Registration will be\\nheld on June 27.\\nThe final summer session,\\n\\nTerm 2, will be a three-week\\nsession from August 8 to\\nAugust 27. Three academic\\nunits may be earned. Registration will be held on Augu st 8.\\nSummer fees will be $18.50\\n\\nfor each semester unit, with\\na parking fee of $5 required\\nonly during the six week session, Term 1.\\n\\nSan Diego, California\\n\\nBIG MEN VOTE \"NO\" ON GUANO: Riparm riparia, the cliff\\nswallow, will have to find o friendlier nesting place than the\\nUCSD Library. (See \"Guest Editorial\"\\n\\nThree Professors Make\\nAmerican Academy\\n\\nDr. Pearce\\n\\ntors, historians, writers and\\nartists. Four women were\\nhonored and 10 foreign countries, including Russia,\\nEngland, Israel and Greece,\\nwere represented.\\nAs Chairman of the Department of Neuroscience, Dr.\\nLivingston heads the first\\ndepartment established at\\nthe UCSD School of Medicine. He was born in Boston,\\nMassachusetts and received\\nboth his undergraduate and\\nmedical degrees from Stanford University. He was associated with the National\\nInstitutes of Health prior to\\njoining the UCSD faculty in\\n1965.\\nDr. Pearce received his\\n\\nB.S. and M.A. degrees from\\nUCLA and his Ph.D. from\\nJohns Hopkins University in\\n1945. He is the author of many\\nbooks, his principal works\\nbeing The Savages of America,\\n\\nDr. Livingston\\n\\nThree faculty members\\nfrom the University of California, San Diego have been\\nnamed among 150 leaders of\\nscholarship, the professions,\\nbusiness and international affairs elected to membership\\nin the Am'"
      ]
     },
     "execution_count": 65,
     "metadata": {},
     "output_type": "execute_result"
    }
   ],
   "source": [
    "import re\n",
    "def preprocess(text):\n",
    "    return re.sub('\\-\\n+', '', text)\n",
    "\n",
    "content = preprocess(content)\n",
    "content[:2000]"
   ]
  },
  {
   "cell_type": "markdown",
   "metadata": {},
   "source": [
    "Now we want to be able to load all the files in the directory and apply the preprocessing to them. To do that, we'll first define a function that will return the full path of all the files in the directory and will makes sure that we are only dealing with text files (so that we don't try to open a folder or another filetype that would cause an error):"
   ]
  },
  {
   "cell_type": "code",
   "execution_count": 66,
   "metadata": {
    "collapsed": false
   },
   "outputs": [
    {
     "data": {
      "text/plain": [
       "['E:\\\\Code Projects\\\\UCSD Newspapers\\\\ucsdHistory_raw 2\\\\ucsdHistory_raw\\\\Student Newspapers\\\\bb0001069r-1.pdf.txt',\n",
       " 'E:\\\\Code Projects\\\\UCSD Newspapers\\\\ucsdHistory_raw 2\\\\ucsdHistory_raw\\\\Student Newspapers\\\\bb0001070k-1.pdf.txt',\n",
       " 'E:\\\\Code Projects\\\\UCSD Newspapers\\\\ucsdHistory_raw 2\\\\ucsdHistory_raw\\\\Student Newspapers\\\\bb0035197d-1.pdf.txt',\n",
       " 'E:\\\\Code Projects\\\\UCSD Newspapers\\\\ucsdHistory_raw 2\\\\ucsdHistory_raw\\\\Student Newspapers\\\\bb0035198x-1.pdf.txt',\n",
       " 'E:\\\\Code Projects\\\\UCSD Newspapers\\\\ucsdHistory_raw 2\\\\ucsdHistory_raw\\\\Student Newspapers\\\\bb0035199f-1.pdf.txt',\n",
       " 'E:\\\\Code Projects\\\\UCSD Newspapers\\\\ucsdHistory_raw 2\\\\ucsdHistory_raw\\\\Student Newspapers\\\\bb0035200w-1.pdf.txt',\n",
       " 'E:\\\\Code Projects\\\\UCSD Newspapers\\\\ucsdHistory_raw 2\\\\ucsdHistory_raw\\\\Student Newspapers\\\\bb0069327q-1.pdf.txt',\n",
       " 'E:\\\\Code Projects\\\\UCSD Newspapers\\\\ucsdHistory_raw 2\\\\ucsdHistory_raw\\\\Student Newspapers\\\\bb00693287-1.pdf.txt',\n",
       " 'E:\\\\Code Projects\\\\UCSD Newspapers\\\\ucsdHistory_raw 2\\\\ucsdHistory_raw\\\\Student Newspapers\\\\bb0069329r-1.pdf.txt',\n",
       " 'E:\\\\Code Projects\\\\UCSD Newspapers\\\\ucsdHistory_raw 2\\\\ucsdHistory_raw\\\\Student Newspapers\\\\bb01034597-1.pdf.txt']"
      ]
     },
     "execution_count": 66,
     "metadata": {},
     "output_type": "execute_result"
    }
   ],
   "source": [
    "def load_files(directory):\n",
    "    path = os.path.join(os.getcwd(), directory)\n",
    "    files = os.listdir(path)\n",
    "    files = [os.path.join(path, _) for _ in files if '.txt' in _]\n",
    "    return files\n",
    "\n",
    "load_files(path)[:10]"
   ]
  },
  {
   "cell_type": "markdown",
   "metadata": {},
   "source": [
    "Once we have all the files, we'll create a new function `load_data` to each file one by one, preprocess it and store the result in memory in an array"
   ]
  },
  {
   "cell_type": "code",
   "execution_count": 67,
   "metadata": {
    "collapsed": true
   },
   "outputs": [],
   "source": [
    "def load_data(files):\n",
    "    X = []\n",
    "    for file in files:\n",
    "        with open(file, 'r', encoding = 'utf8') as fp:\n",
    "            content = fp.read()\n",
    "            content = preprocess(content)\n",
    "        X.append(content)\n",
    "    return X"
   ]
  },
  {
   "cell_type": "markdown",
   "metadata": {},
   "source": [
    "Now let's actually run the function and get the data:"
   ]
  },
  {
   "cell_type": "code",
   "execution_count": 68,
   "metadata": {
    "collapsed": true
   },
   "outputs": [],
   "source": [
    "files = load_files(journal_name)\n",
    "documents = load_data(files)"
   ]
  },
  {
   "cell_type": "code",
   "execution_count": 69,
   "metadata": {
    "collapsed": false
   },
   "outputs": [
    {
     "data": {
      "text/plain": [
       "646"
      ]
     },
     "execution_count": 69,
     "metadata": {},
     "output_type": "execute_result"
    }
   ],
   "source": [
    "len(documents)"
   ]
  },
  {
   "cell_type": "markdown",
   "metadata": {},
   "source": [
    "Now we'll vectorize the documents. We'll only keep terms that appear in less than 80% of the documents and at least twice in the corpus. We'll limit the number of features to 5000."
   ]
  },
  {
   "cell_type": "code",
   "execution_count": 70,
   "metadata": {
    "collapsed": true
   },
   "outputs": [],
   "source": [
    "from sklearn.feature_extraction.text import TfidfVectorizer"
   ]
  },
  {
   "cell_type": "code",
   "execution_count": 71,
   "metadata": {
    "collapsed": true
   },
   "outputs": [],
   "source": [
    "vectorizer = TfidfVectorizer(max_df=0.8, min_df=2, max_features=5000, stop_words='english')\n",
    "X = vectorizer.fit_transform(documents)"
   ]
  },
  {
   "cell_type": "markdown",
   "metadata": {},
   "source": [
    "Next, we'll apply non-negative matrix factorization to do topic modeling. We'll try with 25 topics first:"
   ]
  },
  {
   "cell_type": "code",
   "execution_count": 72,
   "metadata": {
    "collapsed": false
   },
   "outputs": [],
   "source": [
    "from sklearn.decomposition import NMF\n",
    "nmf = NMF(n_components=25, init = 'nndsvd').fit(X)"
   ]
  },
  {
   "cell_type": "markdown",
   "metadata": {},
   "source": [
    "Let's have a look at nmf.components_ to understand the output and try to interprete the results"
   ]
  },
  {
   "cell_type": "code",
   "execution_count": 73,
   "metadata": {
    "collapsed": false
   },
   "outputs": [
    {
     "data": {
      "text/plain": [
       "(25, 5000)"
      ]
     },
     "execution_count": 73,
     "metadata": {},
     "output_type": "execute_result"
    }
   ],
   "source": [
    "import numpy as np\n",
    "np.shape(nmf.components_)"
   ]
  },
  {
   "cell_type": "code",
   "execution_count": 74,
   "metadata": {
    "collapsed": false
   },
   "outputs": [
    {
     "data": {
      "text/plain": [
       "array([[ 0.04770388,  0.02705699,  0.        , ...,  0.00333239,\n",
       "         0.00721114,  0.02602281],\n",
       "       [ 0.        ,  0.        ,  0.        , ...,  0.        ,\n",
       "         0.00745978,  0.00579664],\n",
       "       [ 0.        ,  0.        ,  0.00568511, ...,  0.        ,\n",
       "         0.        ,  0.00607028],\n",
       "       ..., \n",
       "       [ 0.01358303,  0.        ,  0.        , ...,  0.        ,\n",
       "         0.        ,  0.        ],\n",
       "       [ 0.00883111,  0.00680038,  0.        , ...,  0.        ,\n",
       "         0.00641064,  0.01085206],\n",
       "       [ 0.00666498,  0.        ,  0.        , ...,  0.        ,\n",
       "         0.        ,  0.        ]])"
      ]
     },
     "execution_count": 74,
     "metadata": {},
     "output_type": "execute_result"
    }
   ],
   "source": [
    "nmf.components_"
   ]
  },
  {
   "cell_type": "code",
   "execution_count": 75,
   "metadata": {
    "collapsed": false
   },
   "outputs": [
    {
     "data": {
      "text/plain": [
       "array([2499, 2051, 2049, ..., 2602, 4747, 4960], dtype=int64)"
      ]
     },
     "execution_count": 75,
     "metadata": {},
     "output_type": "execute_result"
    }
   ],
   "source": [
    "nmf.components_[0].argsort()"
   ]
  },
  {
   "cell_type": "code",
   "execution_count": 76,
   "metadata": {
    "collapsed": false
   },
   "outputs": [
    {
     "name": "stdout",
     "output_type": "stream",
     "text": [
      "item\n",
      "workers\n"
     ]
    }
   ],
   "source": [
    "vocabulary = vectorizer.get_feature_names()\n",
    "print(vocabulary[2499])\n",
    "print(vocabulary[4960])"
   ]
  },
  {
   "cell_type": "code",
   "execution_count": 77,
   "metadata": {
    "collapsed": false
   },
   "outputs": [
    {
     "data": {
      "text/plain": [
       "0.0"
      ]
     },
     "execution_count": 77,
     "metadata": {},
     "output_type": "execute_result"
    }
   ],
   "source": [
    "nmf.components_[0][2499]"
   ]
  },
  {
   "cell_type": "code",
   "execution_count": 78,
   "metadata": {
    "collapsed": false
   },
   "outputs": [
    {
     "data": {
      "text/plain": [
       "1.1017209030802835"
      ]
     },
     "execution_count": 78,
     "metadata": {},
     "output_type": "execute_result"
    }
   ],
   "source": [
    "nmf.components_[0][4960]"
   ]
  },
  {
   "cell_type": "code",
   "execution_count": 79,
   "metadata": {
    "collapsed": false
   },
   "outputs": [
    {
     "data": {
      "text/plain": [
       "array([4960, 4747, 2602, ..., 2049, 2051, 2499], dtype=int64)"
      ]
     },
     "execution_count": 79,
     "metadata": {},
     "output_type": "execute_result"
    }
   ],
   "source": [
    "nmf.components_[0].argsort()[::-1]"
   ]
  },
  {
   "cell_type": "markdown",
   "metadata": {},
   "source": [
    "Let's now print the top 10 words for the first topic:"
   ]
  },
  {
   "cell_type": "code",
   "execution_count": 80,
   "metadata": {
    "collapsed": false
   },
   "outputs": [
    {
     "data": {
      "text/plain": [
       "['workers',\n",
       " 'union',\n",
       " 'labor',\n",
       " 'ufw',\n",
       " 'strike',\n",
       " 'mexico',\n",
       " 'mexican',\n",
       " 'north',\n",
       " 'city',\n",
       " 'april']"
      ]
     },
     "execution_count": 80,
     "metadata": {},
     "output_type": "execute_result"
    }
   ],
   "source": [
    "[vocabulary[i] for i in nmf.components_[0].argsort()[::-1][:10]]"
   ]
  },
  {
   "cell_type": "markdown",
   "metadata": {},
   "source": [
    "Now let's create a function that will allow us to do that for all the topics:"
   ]
  },
  {
   "cell_type": "code",
   "execution_count": 81,
   "metadata": {
    "collapsed": false
   },
   "outputs": [],
   "source": [
    "def display_topics(model, vocabulary, no_words):\n",
    "    for index, topic in enumerate(model.components_):\n",
    "        print(\"Topic\", index, \":\")\n",
    "        print(\" \".join([vocabulary[i] for i in topic.argsort()[::-1][:no_words]]))"
   ]
  },
  {
   "cell_type": "code",
   "execution_count": 82,
   "metadata": {
    "collapsed": false
   },
   "outputs": [
    {
     "name": "stdout",
     "output_type": "stream",
     "text": [
      "Topic 0 :\n",
      "workers union labor ufw strike mexico mexican north city april police company health industry border\n",
      "Topic 1 :\n",
      "revelle provost dean revellations quarter resident blake feb plaza argo orientation humanities spring seniors dr\n",
      "Topic 2 :\n",
      "ol lhc hc ill lhe ha arc ith bc thc tile ot el ihc pm\n",
      "Topic 3 :\n",
      "black blacks white african bsu negro dr voice king whites malcolm sisters afro brothers garvey\n",
      "Topic 4 :\n",
      "soviet cr review soviets reagan crocker nicaragua sandinistas communist union freedom sandinista conservative gorbachev dr\n",
      "Topic 5 :\n",
      "sandscript team dr hall kerr club galbraith shores freshman senate editor matthews mr freshmen sports\n",
      "Topic 6 :\n",
      "que en los el para las una se sus del su por es workers clue\n",
      "Topic 7 :\n",
      "indicator 534 info peace pm meets collective resource ch cable morley op 7pm 1990 mondays\n",
      "Topic 8 :\n",
      "asian islander korean japanese momentum pacific americans asians chinese ethnic culture identity 1992 stereotypes tile\n",
      "Topic 9 :\n",
      "daycare reg chancellor fee care communications childcare tenure graduate mceiroy referendum armitage mcelroy parents cep\n",
      "Topic 10 :\n",
      "iraq bush war saddam 2003 iraqi kerry oil military hussein www lraq tbr terrorism terrorists\n",
      "Topic 11 :\n",
      "research war dr military ida defense scripps murphy vietnam regents ruling scientists classified mcgill strike\n",
      "Topic 12 :\n",
      "media indicator council alternative 1986 budget progressive funding maccrone paper constitution album 202 chancellor proposal\n",
      "Topic 13 :\n",
      "africa south african apartheid divestment africans bakke investment struggle regents uc penn 1985 israel investments\n",
      "Topic 14 :\n",
      "jewish jews zionist zionism israel palestine arab palestinian israeli zionists semitism draft anti palestinians arabs\n",
      "Topic 15 :\n",
      "socialism revolution war party marx soviet socialist revolutionary stalin workers movement russian draft capitalist russia\n",
      "Topic 16 :\n",
      "cia saxon uc coors hearings chile attiyeh agency research murphy senate 1975 intelligence communications angola\n",
      "Topic 17 :\n",
      "review clinton tax bush conservative liberal conservatives federal democrats republican spending republicans taxes editor 1994\n",
      "Topic 18 :\n",
      "nuclear plant weapons energy radioactive plants reactor radiation water safety missiles missile arms systems soviet\n",
      "Topic 19 :\n",
      "reagan salvador military nicaragua pm el draft april workers war peace protest central aid nicaraguan\n",
      "Topic 20 :\n",
      "commuter cab revelle lounge quarter dean plaza grade finals argo love 534 drop classes revellations\n",
      "Topic 21 :\n",
      "ill ihe il io ih ihal li lit al lilt lh lll lhe ihc thai\n",
      "Topic 22 :\n",
      "referendum rimac fee fees ops op council gsa ucb election price uc cooperative referenda bylaws\n",
      "Topic 23 :\n",
      "police war vietnam vietnamese white nixon law cleaver human north kind city got woman military\n",
      "Topic 24 :\n",
      "rcc revelle council commuter parking programming committees april plaza cab elected input intern affecting body\n"
     ]
    }
   ],
   "source": [
    "display_topics(nmf, vocabulary, 15)"
   ]
  },
  {
   "cell_type": "markdown",
   "metadata": {},
   "source": [
    "Note that we can also use nmf to get the distribution of each of our topic within a specific document (what percentage of document a concerns topic 1, 2 or 3? ) by normalizing the results of the NMF over the corpus:"
   ]
  },
  {
   "cell_type": "code",
   "execution_count": 83,
   "metadata": {
    "collapsed": true
   },
   "outputs": [],
   "source": [
    "doc_topics = nmf.transform(X)"
   ]
  },
  {
   "cell_type": "code",
   "execution_count": 84,
   "metadata": {
    "collapsed": false
   },
   "outputs": [
    {
     "data": {
      "text/plain": [
       "(646, 25)"
      ]
     },
     "execution_count": 84,
     "metadata": {},
     "output_type": "execute_result"
    }
   ],
   "source": [
    "np.shape(doc_topics)"
   ]
  },
  {
   "cell_type": "code",
   "execution_count": 85,
   "metadata": {
    "collapsed": false
   },
   "outputs": [
    {
     "data": {
      "text/plain": [
       "array([ 0.        ,  0.01322529,  0.        ,  0.01075261,  0.00593091,\n",
       "        0.27822003,  0.        ,  0.        ,  0.00929646,  0.        ,\n",
       "        0.00431371,  0.01570553,  0.01114917,  0.0077475 ,  0.00769204,\n",
       "        0.01791881,  0.        ,  0.03688016,  0.0015401 ,  0.        ,\n",
       "        0.01337364,  0.00523631,  0.02769023,  0.02175224,  0.01639838])"
      ]
     },
     "execution_count": 85,
     "metadata": {},
     "output_type": "execute_result"
    }
   ],
   "source": [
    "doc_topics[0]"
   ]
  },
  {
   "cell_type": "code",
   "execution_count": 86,
   "metadata": {
    "collapsed": false
   },
   "outputs": [
    {
     "data": {
      "text/plain": [
       "0.50482312014044284"
      ]
     },
     "execution_count": 86,
     "metadata": {},
     "output_type": "execute_result"
    }
   ],
   "source": [
    "sum(doc_topics[0])"
   ]
  },
  {
   "cell_type": "code",
   "execution_count": 87,
   "metadata": {
    "collapsed": true
   },
   "outputs": [],
   "source": [
    "doc_topics = doc_topics / np.sum(doc_topics, axis=1, keepdims=True)"
   ]
  },
  {
   "cell_type": "code",
   "execution_count": 88,
   "metadata": {
    "collapsed": false
   },
   "outputs": [
    {
     "data": {
      "text/plain": [
       "array([ 0.        ,  0.02619786,  0.        ,  0.02129977,  0.01174848,\n",
       "        0.55112378,  0.        ,  0.        ,  0.01841528,  0.        ,\n",
       "        0.00854499,  0.03111095,  0.02208531,  0.01534697,  0.0152371 ,\n",
       "        0.03549523,  0.        ,  0.07305561,  0.00305077,  0.        ,\n",
       "        0.02649174,  0.01037257,  0.05485135,  0.04308883,  0.03248341])"
      ]
     },
     "execution_count": 88,
     "metadata": {},
     "output_type": "execute_result"
    }
   ],
   "source": [
    "doc_topics[0]"
   ]
  },
  {
   "cell_type": "markdown",
   "metadata": {},
   "source": [
    "Now let's have a look at what metadata we can work with by opening the csv file corresponding to the corpus we're looking at. We will use the **pandas** package to load the csv file."
   ]
  },
  {
   "cell_type": "code",
   "execution_count": 89,
   "metadata": {
    "collapsed": false
   },
   "outputs": [],
   "source": [
    "import pandas as pd\n",
    "# we've stored the name of the journal in a variable earlier, we can reuse this here so that we can more easily switch to another corpus in the future\n",
    "df = pd.read_csv(journal_name + '.csv')"
   ]
  },
  {
   "cell_type": "markdown",
   "metadata": {},
   "source": [
    "Let's look at the columns"
   ]
  },
  {
   "cell_type": "code",
   "execution_count": 90,
   "metadata": {
    "collapsed": false
   },
   "outputs": [
    {
     "data": {
      "text/plain": [
       "Index(['Object Unique ID', 'Level', 'File name', 'File use',\n",
       "       'Type of Resource', 'Language', 'Title', 'Subtitle', 'Translation',\n",
       "       'Variant', 'Variant.1', 'Variant.2', 'Begin date', 'Date:creation',\n",
       "       'End date', 'File name 2', 'File use 2', 'Identifier:filename',\n",
       "       'Identifier:local', 'Note:local attribution', 'Note:note',\n",
       "       'Note:note.1', 'Note:note.2', 'Note:note.3', 'Note:publication',\n",
       "       'Note:publication.1', 'Note:series', 'Subject:topic'],\n",
       "      dtype='object')"
      ]
     },
     "execution_count": 90,
     "metadata": {},
     "output_type": "execute_result"
    }
   ],
   "source": [
    "df.columns"
   ]
  },
  {
   "cell_type": "markdown",
   "metadata": {},
   "source": [
    "And the first entries..."
   ]
  },
  {
   "cell_type": "code",
   "execution_count": 91,
   "metadata": {
    "collapsed": false
   },
   "outputs": [
    {
     "data": {
      "text/html": [
       "<div>\n",
       "<table border=\"1\" class=\"dataframe\">\n",
       "  <thead>\n",
       "    <tr style=\"text-align: right;\">\n",
       "      <th></th>\n",
       "      <th>Object Unique ID</th>\n",
       "      <th>Level</th>\n",
       "      <th>File name</th>\n",
       "      <th>File use</th>\n",
       "      <th>Type of Resource</th>\n",
       "      <th>Language</th>\n",
       "      <th>Title</th>\n",
       "      <th>Subtitle</th>\n",
       "      <th>Translation</th>\n",
       "      <th>Variant</th>\n",
       "      <th>...</th>\n",
       "      <th>Identifier:local</th>\n",
       "      <th>Note:local attribution</th>\n",
       "      <th>Note:note</th>\n",
       "      <th>Note:note.1</th>\n",
       "      <th>Note:note.2</th>\n",
       "      <th>Note:note.3</th>\n",
       "      <th>Note:publication</th>\n",
       "      <th>Note:publication.1</th>\n",
       "      <th>Note:series</th>\n",
       "      <th>Subject:topic</th>\n",
       "    </tr>\n",
       "  </thead>\n",
       "  <tbody>\n",
       "    <tr>\n",
       "      <th>0</th>\n",
       "      <td>http://library.ucsd.edu/ark:/20775/bb8772477z</td>\n",
       "      <td>Object</td>\n",
       "      <td>20775-bb8772477z-0-1.pdf</td>\n",
       "      <td>document-service</td>\n",
       "      <td>text</td>\n",
       "      <td>NaN</td>\n",
       "      <td>Sandscript</td>\n",
       "      <td>NaN</td>\n",
       "      <td>NaN</td>\n",
       "      <td>NaN</td>\n",
       "      <td>...</td>\n",
       "      <td>NaN</td>\n",
       "      <td>Special Collections &amp; Archives, UC San Diego, ...</td>\n",
       "      <td>PDF file includes photographs</td>\n",
       "      <td>\"UCSD's first weekly student newspaper.\" Frequ...</td>\n",
       "      <td>NaN</td>\n",
       "      <td>NaN</td>\n",
       "      <td>Vol. 1, no. 1 (10 Feb. 1965)- Ceased with issu...</td>\n",
       "      <td>La Jolla, CA</td>\n",
       "      <td>Volume 1, Issue 1</td>\n",
       "      <td>NaN</td>\n",
       "    </tr>\n",
       "    <tr>\n",
       "      <th>1</th>\n",
       "      <td>http://library.ucsd.edu/ark:/20775/bb9352689j</td>\n",
       "      <td>Object</td>\n",
       "      <td>20775-bb9352689j-0-1.pdf</td>\n",
       "      <td>document-service</td>\n",
       "      <td>text</td>\n",
       "      <td>NaN</td>\n",
       "      <td>Sandscript</td>\n",
       "      <td>NaN</td>\n",
       "      <td>NaN</td>\n",
       "      <td>NaN</td>\n",
       "      <td>...</td>\n",
       "      <td>NaN</td>\n",
       "      <td>Special Collections &amp; Archives, UC San Diego, ...</td>\n",
       "      <td>\"UCSD's first weekly student newspaper.\" Frequ...</td>\n",
       "      <td>PDF file includes photographs</td>\n",
       "      <td>NaN</td>\n",
       "      <td>NaN</td>\n",
       "      <td>Vol. 1, no. 1 (10 Feb. 1965)- Ceased with issu...</td>\n",
       "      <td>La Jolla, CA</td>\n",
       "      <td>Volume 1, Issue 2</td>\n",
       "      <td>NaN</td>\n",
       "    </tr>\n",
       "    <tr>\n",
       "      <th>2</th>\n",
       "      <td>http://library.ucsd.edu/ark:/20775/bb6007948n</td>\n",
       "      <td>Object</td>\n",
       "      <td>20775-bb6007948n-0-1.pdf</td>\n",
       "      <td>document-service</td>\n",
       "      <td>text</td>\n",
       "      <td>NaN</td>\n",
       "      <td>Sandscript</td>\n",
       "      <td>NaN</td>\n",
       "      <td>NaN</td>\n",
       "      <td>NaN</td>\n",
       "      <td>...</td>\n",
       "      <td>NaN</td>\n",
       "      <td>Special Collections &amp; Archives, UC San Diego, ...</td>\n",
       "      <td>\"UCSD's first weekly student newspaper.\" Frequ...</td>\n",
       "      <td>PDF file includes photographs</td>\n",
       "      <td>NaN</td>\n",
       "      <td>NaN</td>\n",
       "      <td>La Jolla, CA</td>\n",
       "      <td>Vol. 1, no. 1 (10 Feb. 1965)- Ceased with issu...</td>\n",
       "      <td>Volume 1, Issue 3</td>\n",
       "      <td>NaN</td>\n",
       "    </tr>\n",
       "    <tr>\n",
       "      <th>3</th>\n",
       "      <td>http://library.ucsd.edu/ark:/20775/bb6622290j</td>\n",
       "      <td>Object</td>\n",
       "      <td>20775-bb6622290j-0-1.pdf</td>\n",
       "      <td>document-service</td>\n",
       "      <td>text</td>\n",
       "      <td>NaN</td>\n",
       "      <td>Sandscript</td>\n",
       "      <td>NaN</td>\n",
       "      <td>NaN</td>\n",
       "      <td>NaN</td>\n",
       "      <td>...</td>\n",
       "      <td>NaN</td>\n",
       "      <td>Special Collections &amp; Archives, UC San Diego, ...</td>\n",
       "      <td>\"UCSD's first weekly student newspaper.\" Frequ...</td>\n",
       "      <td>PDF file includes photographs</td>\n",
       "      <td>NaN</td>\n",
       "      <td>NaN</td>\n",
       "      <td>Vol. 1, no. 1 (10 Feb. 1965)- Ceased with issu...</td>\n",
       "      <td>La Jolla, CA</td>\n",
       "      <td>Volume 1, Issue 4</td>\n",
       "      <td>NaN</td>\n",
       "    </tr>\n",
       "    <tr>\n",
       "      <th>4</th>\n",
       "      <td>http://library.ucsd.edu/ark:/20775/bb6758810b</td>\n",
       "      <td>Object</td>\n",
       "      <td>20775-bb6758810b-0-1.pdf</td>\n",
       "      <td>document-service</td>\n",
       "      <td>text</td>\n",
       "      <td>NaN</td>\n",
       "      <td>Sandscript</td>\n",
       "      <td>NaN</td>\n",
       "      <td>NaN</td>\n",
       "      <td>NaN</td>\n",
       "      <td>...</td>\n",
       "      <td>NaN</td>\n",
       "      <td>Special Collections &amp; Archives, UC San Diego, ...</td>\n",
       "      <td>PDF file includes photographs</td>\n",
       "      <td>\"UCSD's first weekly student newspaper.\" Frequ...</td>\n",
       "      <td>NaN</td>\n",
       "      <td>NaN</td>\n",
       "      <td>Vol. 1, no. 1 (10 Feb. 1965)- Ceased with issu...</td>\n",
       "      <td>La Jolla, CA</td>\n",
       "      <td>Volume 1, Issue 5</td>\n",
       "      <td>NaN</td>\n",
       "    </tr>\n",
       "  </tbody>\n",
       "</table>\n",
       "<p>5 rows × 28 columns</p>\n",
       "</div>"
      ],
      "text/plain": [
       "                                Object Unique ID   Level  \\\n",
       "0  http://library.ucsd.edu/ark:/20775/bb8772477z  Object   \n",
       "1  http://library.ucsd.edu/ark:/20775/bb9352689j  Object   \n",
       "2  http://library.ucsd.edu/ark:/20775/bb6007948n  Object   \n",
       "3  http://library.ucsd.edu/ark:/20775/bb6622290j  Object   \n",
       "4  http://library.ucsd.edu/ark:/20775/bb6758810b  Object   \n",
       "\n",
       "                  File name          File use Type of Resource Language  \\\n",
       "0  20775-bb8772477z-0-1.pdf  document-service             text      NaN   \n",
       "1  20775-bb9352689j-0-1.pdf  document-service             text      NaN   \n",
       "2  20775-bb6007948n-0-1.pdf  document-service             text      NaN   \n",
       "3  20775-bb6622290j-0-1.pdf  document-service             text      NaN   \n",
       "4  20775-bb6758810b-0-1.pdf  document-service             text      NaN   \n",
       "\n",
       "        Title Subtitle  Translation Variant      ...      Identifier:local  \\\n",
       "0  Sandscript      NaN          NaN     NaN      ...                   NaN   \n",
       "1  Sandscript      NaN          NaN     NaN      ...                   NaN   \n",
       "2  Sandscript      NaN          NaN     NaN      ...                   NaN   \n",
       "3  Sandscript      NaN          NaN     NaN      ...                   NaN   \n",
       "4  Sandscript      NaN          NaN     NaN      ...                   NaN   \n",
       "\n",
       "                              Note:local attribution  \\\n",
       "0  Special Collections & Archives, UC San Diego, ...   \n",
       "1  Special Collections & Archives, UC San Diego, ...   \n",
       "2  Special Collections & Archives, UC San Diego, ...   \n",
       "3  Special Collections & Archives, UC San Diego, ...   \n",
       "4  Special Collections & Archives, UC San Diego, ...   \n",
       "\n",
       "                                           Note:note  \\\n",
       "0                      PDF file includes photographs   \n",
       "1  \"UCSD's first weekly student newspaper.\" Frequ...   \n",
       "2  \"UCSD's first weekly student newspaper.\" Frequ...   \n",
       "3  \"UCSD's first weekly student newspaper.\" Frequ...   \n",
       "4                      PDF file includes photographs   \n",
       "\n",
       "                                         Note:note.1 Note:note.2 Note:note.3  \\\n",
       "0  \"UCSD's first weekly student newspaper.\" Frequ...         NaN         NaN   \n",
       "1                      PDF file includes photographs         NaN         NaN   \n",
       "2                      PDF file includes photographs         NaN         NaN   \n",
       "3                      PDF file includes photographs         NaN         NaN   \n",
       "4  \"UCSD's first weekly student newspaper.\" Frequ...         NaN         NaN   \n",
       "\n",
       "                                    Note:publication  \\\n",
       "0  Vol. 1, no. 1 (10 Feb. 1965)- Ceased with issu...   \n",
       "1  Vol. 1, no. 1 (10 Feb. 1965)- Ceased with issu...   \n",
       "2                                       La Jolla, CA   \n",
       "3  Vol. 1, no. 1 (10 Feb. 1965)- Ceased with issu...   \n",
       "4  Vol. 1, no. 1 (10 Feb. 1965)- Ceased with issu...   \n",
       "\n",
       "                                  Note:publication.1        Note:series  \\\n",
       "0                                       La Jolla, CA  Volume 1, Issue 1   \n",
       "1                                       La Jolla, CA  Volume 1, Issue 2   \n",
       "2  Vol. 1, no. 1 (10 Feb. 1965)- Ceased with issu...  Volume 1, Issue 3   \n",
       "3                                       La Jolla, CA  Volume 1, Issue 4   \n",
       "4                                       La Jolla, CA  Volume 1, Issue 5   \n",
       "\n",
       "  Subject:topic  \n",
       "0           NaN  \n",
       "1           NaN  \n",
       "2           NaN  \n",
       "3           NaN  \n",
       "4           NaN  \n",
       "\n",
       "[5 rows x 28 columns]"
      ]
     },
     "execution_count": 91,
     "metadata": {},
     "output_type": "execute_result"
    }
   ],
   "source": [
    "df.head()"
   ]
  },
  {
   "cell_type": "markdown",
   "metadata": {},
   "source": [
    "We notice that the filenames listed do not exactly correspond to the names of the raw text files we have used before, nor are they listed in the same order:"
   ]
  },
  {
   "cell_type": "code",
   "execution_count": 92,
   "metadata": {
    "collapsed": false
   },
   "outputs": [
    {
     "data": {
      "text/plain": [
       "['E:\\\\Code Projects\\\\UCSD Newspapers\\\\ucsdHistory_raw 2\\\\ucsdHistory_raw\\\\Student Newspapers\\\\bb0001069r-1.pdf.txt',\n",
       " 'E:\\\\Code Projects\\\\UCSD Newspapers\\\\ucsdHistory_raw 2\\\\ucsdHistory_raw\\\\Student Newspapers\\\\bb0001070k-1.pdf.txt',\n",
       " 'E:\\\\Code Projects\\\\UCSD Newspapers\\\\ucsdHistory_raw 2\\\\ucsdHistory_raw\\\\Student Newspapers\\\\bb0035197d-1.pdf.txt',\n",
       " 'E:\\\\Code Projects\\\\UCSD Newspapers\\\\ucsdHistory_raw 2\\\\ucsdHistory_raw\\\\Student Newspapers\\\\bb0035198x-1.pdf.txt',\n",
       " 'E:\\\\Code Projects\\\\UCSD Newspapers\\\\ucsdHistory_raw 2\\\\ucsdHistory_raw\\\\Student Newspapers\\\\bb0035199f-1.pdf.txt',\n",
       " 'E:\\\\Code Projects\\\\UCSD Newspapers\\\\ucsdHistory_raw 2\\\\ucsdHistory_raw\\\\Student Newspapers\\\\bb0035200w-1.pdf.txt',\n",
       " 'E:\\\\Code Projects\\\\UCSD Newspapers\\\\ucsdHistory_raw 2\\\\ucsdHistory_raw\\\\Student Newspapers\\\\bb0069327q-1.pdf.txt',\n",
       " 'E:\\\\Code Projects\\\\UCSD Newspapers\\\\ucsdHistory_raw 2\\\\ucsdHistory_raw\\\\Student Newspapers\\\\bb00693287-1.pdf.txt',\n",
       " 'E:\\\\Code Projects\\\\UCSD Newspapers\\\\ucsdHistory_raw 2\\\\ucsdHistory_raw\\\\Student Newspapers\\\\bb0069329r-1.pdf.txt',\n",
       " 'E:\\\\Code Projects\\\\UCSD Newspapers\\\\ucsdHistory_raw 2\\\\ucsdHistory_raw\\\\Student Newspapers\\\\bb01034597-1.pdf.txt']"
      ]
     },
     "execution_count": 92,
     "metadata": {},
     "output_type": "execute_result"
    }
   ],
   "source": [
    "files[:10]"
   ]
  },
  {
   "cell_type": "markdown",
   "metadata": {},
   "source": [
    "For that reason we will need to process our filenames and match them to the appropriate row in the dataframe as well as to the appropriate topic distribution in the NMF matrix we created earlier from the corpus.\n",
    "\n",
    "We notice that the Object Unique ID of each row can be found in the filenames of the text files we have, so let's use that to match the raw text to the rows of the csv. Let's do a test with the first file:"
   ]
  },
  {
   "cell_type": "code",
   "execution_count": 93,
   "metadata": {
    "collapsed": false
   },
   "outputs": [
    {
     "data": {
      "text/plain": [
       "'bb0001069r'"
      ]
     },
     "execution_count": 93,
     "metadata": {},
     "output_type": "execute_result"
    }
   ],
   "source": [
    "file_id = files[0].split('\\\\')[-1].split('-')[0]\n",
    "file_id"
   ]
  },
  {
   "cell_type": "code",
   "execution_count": 94,
   "metadata": {
    "collapsed": false
   },
   "outputs": [
    {
     "data": {
      "text/plain": [
       "0      False\n",
       "1      False\n",
       "2      False\n",
       "3      False\n",
       "4      False\n",
       "5      False\n",
       "6      False\n",
       "7      False\n",
       "8      False\n",
       "9      False\n",
       "10     False\n",
       "11     False\n",
       "12     False\n",
       "13     False\n",
       "14     False\n",
       "15     False\n",
       "16     False\n",
       "17     False\n",
       "18     False\n",
       "19     False\n",
       "20     False\n",
       "21     False\n",
       "22     False\n",
       "23     False\n",
       "24     False\n",
       "25     False\n",
       "26     False\n",
       "27     False\n",
       "28     False\n",
       "29      True\n",
       "       ...  \n",
       "616    False\n",
       "617    False\n",
       "618    False\n",
       "619    False\n",
       "620    False\n",
       "621    False\n",
       "622    False\n",
       "623    False\n",
       "624    False\n",
       "625    False\n",
       "626    False\n",
       "627    False\n",
       "628    False\n",
       "629    False\n",
       "630    False\n",
       "631    False\n",
       "632    False\n",
       "633    False\n",
       "634    False\n",
       "635    False\n",
       "636    False\n",
       "637    False\n",
       "638    False\n",
       "639    False\n",
       "640    False\n",
       "641    False\n",
       "642    False\n",
       "643    False\n",
       "644    False\n",
       "645    False\n",
       "Name: Object Unique ID, dtype: bool"
      ]
     },
     "execution_count": 94,
     "metadata": {},
     "output_type": "execute_result"
    }
   ],
   "source": [
    "df['Object Unique ID'].str.contains(file_id)"
   ]
  },
  {
   "cell_type": "code",
   "execution_count": 95,
   "metadata": {
    "collapsed": false
   },
   "outputs": [
    {
     "data": {
      "text/html": [
       "<div>\n",
       "<table border=\"1\" class=\"dataframe\">\n",
       "  <thead>\n",
       "    <tr style=\"text-align: right;\">\n",
       "      <th></th>\n",
       "      <th>Object Unique ID</th>\n",
       "      <th>Level</th>\n",
       "      <th>File name</th>\n",
       "      <th>File use</th>\n",
       "      <th>Type of Resource</th>\n",
       "      <th>Language</th>\n",
       "      <th>Title</th>\n",
       "      <th>Subtitle</th>\n",
       "      <th>Translation</th>\n",
       "      <th>Variant</th>\n",
       "      <th>...</th>\n",
       "      <th>Identifier:local</th>\n",
       "      <th>Note:local attribution</th>\n",
       "      <th>Note:note</th>\n",
       "      <th>Note:note.1</th>\n",
       "      <th>Note:note.2</th>\n",
       "      <th>Note:note.3</th>\n",
       "      <th>Note:publication</th>\n",
       "      <th>Note:publication.1</th>\n",
       "      <th>Note:series</th>\n",
       "      <th>Subject:topic</th>\n",
       "    </tr>\n",
       "  </thead>\n",
       "  <tbody>\n",
       "    <tr>\n",
       "      <th>29</th>\n",
       "      <td>http://library.ucsd.edu/ark:/20775/bb0001069r</td>\n",
       "      <td>Object</td>\n",
       "      <td>20775-bb0001069r-0-1.pdf</td>\n",
       "      <td>document-service</td>\n",
       "      <td>text</td>\n",
       "      <td>NaN</td>\n",
       "      <td>Sandscript</td>\n",
       "      <td>NaN</td>\n",
       "      <td>NaN</td>\n",
       "      <td>NaN</td>\n",
       "      <td>...</td>\n",
       "      <td>NaN</td>\n",
       "      <td>Special Collections &amp; Archives, UC San Diego, ...</td>\n",
       "      <td>\"UCSD's first weekly student newspaper.\" Frequ...</td>\n",
       "      <td>PDF file includes photographs</td>\n",
       "      <td>NaN</td>\n",
       "      <td>NaN</td>\n",
       "      <td>La Jolla, CA</td>\n",
       "      <td>Vol. 1, no. 1 (10 Feb. 1965)- Ceased with issu...</td>\n",
       "      <td>Volume 2, Issue 14</td>\n",
       "      <td>NaN</td>\n",
       "    </tr>\n",
       "  </tbody>\n",
       "</table>\n",
       "<p>1 rows × 28 columns</p>\n",
       "</div>"
      ],
      "text/plain": [
       "                                 Object Unique ID   Level  \\\n",
       "29  http://library.ucsd.edu/ark:/20775/bb0001069r  Object   \n",
       "\n",
       "                   File name          File use Type of Resource Language  \\\n",
       "29  20775-bb0001069r-0-1.pdf  document-service             text      NaN   \n",
       "\n",
       "         Title Subtitle  Translation Variant      ...      Identifier:local  \\\n",
       "29  Sandscript      NaN          NaN     NaN      ...                   NaN   \n",
       "\n",
       "                               Note:local attribution  \\\n",
       "29  Special Collections & Archives, UC San Diego, ...   \n",
       "\n",
       "                                            Note:note  \\\n",
       "29  \"UCSD's first weekly student newspaper.\" Frequ...   \n",
       "\n",
       "                      Note:note.1 Note:note.2 Note:note.3 Note:publication  \\\n",
       "29  PDF file includes photographs         NaN         NaN     La Jolla, CA   \n",
       "\n",
       "                                   Note:publication.1         Note:series  \\\n",
       "29  Vol. 1, no. 1 (10 Feb. 1965)- Ceased with issu...  Volume 2, Issue 14   \n",
       "\n",
       "   Subject:topic  \n",
       "29           NaN  \n",
       "\n",
       "[1 rows x 28 columns]"
      ]
     },
     "execution_count": 95,
     "metadata": {},
     "output_type": "execute_result"
    }
   ],
   "source": [
    "df[df['Object Unique ID'].str.contains(file_id)]"
   ]
  },
  {
   "cell_type": "markdown",
   "metadata": {},
   "source": [
    "Now let's try to extract the date for this particular row. There are several date columns (BeginDate, EndDate, ...) but they all seem to be equivalent, so let's go with BeginDate..."
   ]
  },
  {
   "cell_type": "code",
   "execution_count": 96,
   "metadata": {
    "collapsed": false
   },
   "outputs": [
    {
     "data": {
      "text/plain": [
       "29    6/3/66\n",
       "Name: Begin date, dtype: object"
      ]
     },
     "execution_count": 96,
     "metadata": {},
     "output_type": "execute_result"
    }
   ],
   "source": [
    "test_date = df['Begin date'][df['Object Unique ID'].str.contains(file_id)]\n",
    "test_date"
   ]
  },
  {
   "cell_type": "markdown",
   "metadata": {},
   "source": [
    "We are getting the right value, but the format of the output tells us that the data type returned is not exactly standard. Let's confirm this:"
   ]
  },
  {
   "cell_type": "code",
   "execution_count": 97,
   "metadata": {
    "collapsed": false
   },
   "outputs": [
    {
     "data": {
      "text/plain": [
       "pandas.core.series.Series"
      ]
     },
     "execution_count": 97,
     "metadata": {},
     "output_type": "execute_result"
    }
   ],
   "source": [
    "type(test_date)"
   ]
  },
  {
   "cell_type": "markdown",
   "metadata": {},
   "source": [
    "This is a variable type specific to pandas, so we might run into trouble when trying to perform standard operations over it or sending it to some package's function. Let's make sure we only get the value and not the **pandas** Series cell:"
   ]
  },
  {
   "cell_type": "code",
   "execution_count": 98,
   "metadata": {
    "collapsed": false
   },
   "outputs": [
    {
     "name": "stdout",
     "output_type": "stream",
     "text": [
      "['6/3/66']\n",
      "<class 'numpy.ndarray'>\n"
     ]
    }
   ],
   "source": [
    "test_date = df['Begin date'][df['Object Unique ID'].str.contains(file_id)].values\n",
    "print(test_date)\n",
    "print(type(test_date))"
   ]
  },
  {
   "cell_type": "markdown",
   "metadata": {},
   "source": [
    "Almost there..."
   ]
  },
  {
   "cell_type": "code",
   "execution_count": 99,
   "metadata": {
    "collapsed": false
   },
   "outputs": [
    {
     "name": "stdout",
     "output_type": "stream",
     "text": [
      "6/3/66\n",
      "<class 'str'>\n"
     ]
    }
   ],
   "source": [
    "test_date = df['Begin date'][df['Object Unique ID'].str.contains(file_id)].values[0]\n",
    "print(test_date)\n",
    "print(type(test_date))"
   ]
  },
  {
   "cell_type": "markdown",
   "metadata": {},
   "source": [
    "Ok. So now we have a standard string. Which is good, but not ideal in case we want to perform some calculations on the date (substraction or extracting the month, year...). We can use the **dateparser** package to help us:"
   ]
  },
  {
   "cell_type": "code",
   "execution_count": 100,
   "metadata": {
    "collapsed": false
   },
   "outputs": [
    {
     "name": "stdout",
     "output_type": "stream",
     "text": [
      "<class 'datetime.datetime'>\n",
      "2066-06-03 00:00:00\n"
     ]
    }
   ],
   "source": [
    "import dateparser\n",
    "parsed = dateparser.parse(test_date)\n",
    "print(type(parsed))\n",
    "print(parsed)"
   ]
  },
  {
   "cell_type": "markdown",
   "metadata": {},
   "source": [
    "A little parsing mistake here but we can handle that later. Let's iterate over all our files and store the results:"
   ]
  },
  {
   "cell_type": "code",
   "execution_count": 101,
   "metadata": {
    "collapsed": false
   },
   "outputs": [],
   "source": [
    "from collections import defaultdict\n",
    "yearbook = defaultdict(list)\n",
    "\n",
    "for i, file in enumerate(files):\n",
    "    doc_year = dateparser.parse(df['Begin date'][df['Object Unique ID'].str.contains(file.split('\\\\')[-1].split('-')[0])].values[0]).year\n",
    "    \n",
    "    # handles the 2k bug\n",
    "    if doc_year > 2018:\n",
    "        doc_year -= 100\n",
    "    \n",
    "    # fetches the corresponding distribution for the document. our files and topic distribution matrix have the same index\n",
    "    topic_distribution = doc_topics[i]\n",
    "    \n",
    "    # stores the result in an array\n",
    "    yearbook[doc_year].append(topic_distribution)"
   ]
  },
  {
   "cell_type": "markdown",
   "metadata": {},
   "source": [
    "Now let's compute the mean distribution of topics for each year (maybe absolute values would be better) and store the result in a dataframe"
   ]
  },
  {
   "cell_type": "code",
   "execution_count": 61,
   "metadata": {
    "collapsed": false
   },
   "outputs": [
    {
     "data": {
      "text/html": [
       "<div>\n",
       "<table border=\"1\" class=\"dataframe\">\n",
       "  <thead>\n",
       "    <tr style=\"text-align: right;\">\n",
       "      <th></th>\n",
       "      <th>1965</th>\n",
       "      <th>1966</th>\n",
       "      <th>1967</th>\n",
       "      <th>1968</th>\n",
       "      <th>1969</th>\n",
       "      <th>1970</th>\n",
       "      <th>1971</th>\n",
       "      <th>1972</th>\n",
       "      <th>1973</th>\n",
       "      <th>1974</th>\n",
       "      <th>...</th>\n",
       "      <th>1997</th>\n",
       "      <th>2001</th>\n",
       "      <th>2002</th>\n",
       "      <th>2003</th>\n",
       "      <th>2004</th>\n",
       "      <th>2005</th>\n",
       "      <th>2008</th>\n",
       "      <th>2009</th>\n",
       "      <th>2011</th>\n",
       "      <th>2012</th>\n",
       "    </tr>\n",
       "  </thead>\n",
       "  <tbody>\n",
       "    <tr>\n",
       "      <th>0</th>\n",
       "      <td>0.011302</td>\n",
       "      <td>0.011517</td>\n",
       "      <td>0.015021</td>\n",
       "      <td>0.029503</td>\n",
       "      <td>0.078251</td>\n",
       "      <td>0.118395</td>\n",
       "      <td>0.098351</td>\n",
       "      <td>0.081024</td>\n",
       "      <td>0.131259</td>\n",
       "      <td>0.182561</td>\n",
       "      <td>...</td>\n",
       "      <td>0.000000</td>\n",
       "      <td>0.031215</td>\n",
       "      <td>0.012703</td>\n",
       "      <td>0.027841</td>\n",
       "      <td>0.041550</td>\n",
       "      <td>0.046514</td>\n",
       "      <td>0.037877</td>\n",
       "      <td>0.000000</td>\n",
       "      <td>0.049272</td>\n",
       "      <td>0.058735</td>\n",
       "    </tr>\n",
       "    <tr>\n",
       "      <th>1</th>\n",
       "      <td>0.042124</td>\n",
       "      <td>0.071630</td>\n",
       "      <td>0.039267</td>\n",
       "      <td>0.016406</td>\n",
       "      <td>0.006810</td>\n",
       "      <td>0.003401</td>\n",
       "      <td>0.007302</td>\n",
       "      <td>0.013926</td>\n",
       "      <td>0.016893</td>\n",
       "      <td>0.005266</td>\n",
       "      <td>...</td>\n",
       "      <td>0.011816</td>\n",
       "      <td>0.000635</td>\n",
       "      <td>0.004679</td>\n",
       "      <td>0.004638</td>\n",
       "      <td>0.000488</td>\n",
       "      <td>0.000000</td>\n",
       "      <td>0.000000</td>\n",
       "      <td>0.000000</td>\n",
       "      <td>0.013548</td>\n",
       "      <td>0.004895</td>\n",
       "    </tr>\n",
       "    <tr>\n",
       "      <th>2</th>\n",
       "      <td>0.013531</td>\n",
       "      <td>0.017928</td>\n",
       "      <td>0.020172</td>\n",
       "      <td>0.006005</td>\n",
       "      <td>0.005200</td>\n",
       "      <td>0.018357</td>\n",
       "      <td>0.002773</td>\n",
       "      <td>0.021425</td>\n",
       "      <td>0.025967</td>\n",
       "      <td>0.011100</td>\n",
       "      <td>...</td>\n",
       "      <td>0.016917</td>\n",
       "      <td>0.040725</td>\n",
       "      <td>0.025785</td>\n",
       "      <td>0.010749</td>\n",
       "      <td>0.017693</td>\n",
       "      <td>0.000000</td>\n",
       "      <td>0.000000</td>\n",
       "      <td>0.000000</td>\n",
       "      <td>0.063794</td>\n",
       "      <td>0.007572</td>\n",
       "    </tr>\n",
       "    <tr>\n",
       "      <th>3</th>\n",
       "      <td>0.011480</td>\n",
       "      <td>0.002343</td>\n",
       "      <td>0.009468</td>\n",
       "      <td>0.124238</td>\n",
       "      <td>0.135488</td>\n",
       "      <td>0.186333</td>\n",
       "      <td>0.185166</td>\n",
       "      <td>0.094740</td>\n",
       "      <td>0.270111</td>\n",
       "      <td>0.114178</td>\n",
       "      <td>...</td>\n",
       "      <td>0.000000</td>\n",
       "      <td>0.013057</td>\n",
       "      <td>0.022298</td>\n",
       "      <td>0.007244</td>\n",
       "      <td>0.004865</td>\n",
       "      <td>0.010237</td>\n",
       "      <td>0.000000</td>\n",
       "      <td>0.000063</td>\n",
       "      <td>0.000000</td>\n",
       "      <td>0.009276</td>\n",
       "    </tr>\n",
       "    <tr>\n",
       "      <th>4</th>\n",
       "      <td>0.013867</td>\n",
       "      <td>0.008611</td>\n",
       "      <td>0.002500</td>\n",
       "      <td>0.008220</td>\n",
       "      <td>0.015973</td>\n",
       "      <td>0.010105</td>\n",
       "      <td>0.048761</td>\n",
       "      <td>0.038008</td>\n",
       "      <td>0.000837</td>\n",
       "      <td>0.001988</td>\n",
       "      <td>...</td>\n",
       "      <td>0.022923</td>\n",
       "      <td>0.016059</td>\n",
       "      <td>0.018011</td>\n",
       "      <td>0.004980</td>\n",
       "      <td>0.003728</td>\n",
       "      <td>0.012905</td>\n",
       "      <td>0.011893</td>\n",
       "      <td>0.016292</td>\n",
       "      <td>0.000000</td>\n",
       "      <td>0.014324</td>\n",
       "    </tr>\n",
       "  </tbody>\n",
       "</table>\n",
       "<p>5 rows × 42 columns</p>\n",
       "</div>"
      ],
      "text/plain": [
       "       1965      1966      1967      1968      1969      1970      1971  \\\n",
       "0  0.011302  0.011517  0.015021  0.029503  0.078251  0.118395  0.098351   \n",
       "1  0.042124  0.071630  0.039267  0.016406  0.006810  0.003401  0.007302   \n",
       "2  0.013531  0.017928  0.020172  0.006005  0.005200  0.018357  0.002773   \n",
       "3  0.011480  0.002343  0.009468  0.124238  0.135488  0.186333  0.185166   \n",
       "4  0.013867  0.008611  0.002500  0.008220  0.015973  0.010105  0.048761   \n",
       "\n",
       "       1972      1973      1974    ...         1997      2001      2002  \\\n",
       "0  0.081024  0.131259  0.182561    ...     0.000000  0.031215  0.012703   \n",
       "1  0.013926  0.016893  0.005266    ...     0.011816  0.000635  0.004679   \n",
       "2  0.021425  0.025967  0.011100    ...     0.016917  0.040725  0.025785   \n",
       "3  0.094740  0.270111  0.114178    ...     0.000000  0.013057  0.022298   \n",
       "4  0.038008  0.000837  0.001988    ...     0.022923  0.016059  0.018011   \n",
       "\n",
       "       2003      2004      2005      2008      2009      2011      2012  \n",
       "0  0.027841  0.041550  0.046514  0.037877  0.000000  0.049272  0.058735  \n",
       "1  0.004638  0.000488  0.000000  0.000000  0.000000  0.013548  0.004895  \n",
       "2  0.010749  0.017693  0.000000  0.000000  0.000000  0.063794  0.007572  \n",
       "3  0.007244  0.004865  0.010237  0.000000  0.000063  0.000000  0.009276  \n",
       "4  0.004980  0.003728  0.012905  0.011893  0.016292  0.000000  0.014324  \n",
       "\n",
       "[5 rows x 42 columns]"
      ]
     },
     "execution_count": 61,
     "metadata": {},
     "output_type": "execute_result"
    }
   ],
   "source": [
    "finals = {v: np.mean(yearbook[v], axis = 0) for v in yearbook}\n",
    "res = pd.DataFrame.from_dict(finals)\n",
    "res.head()"
   ]
  },
  {
   "cell_type": "markdown",
   "metadata": {},
   "source": [
    "Now let's transpose and plot the data:"
   ]
  },
  {
   "cell_type": "code",
   "execution_count": 63,
   "metadata": {
    "collapsed": false
   },
   "outputs": [
    {
     "data": {
      "text/plain": [
       "<matplotlib.axes._subplots.AxesSubplot at 0x16be4ce0e10>"
      ]
     },
     "execution_count": 63,
     "metadata": {},
     "output_type": "execute_result"
    },
    {
     "data": {
      "image/png": "[encoded data removed]",
      "text/plain": [
       "<matplotlib.figure.Figure at 0x16be4bbc828>"
      ]
     },
     "metadata": {},
     "output_type": "display_data"
    }
   ],
   "source": [
    "%matplotlib inline\n",
    "\n",
    "res.transpose().plot(figsize=(12,12))"
   ]
  },
  {
   "cell_type": "code",
   "execution_count": null,
   "metadata": {
    "collapsed": true
   },
   "outputs": [],
   "source": []
  }
 ],
 "metadata": {
  "kernelspec": {
   "display_name": "Python 3",
   "language": "python",
   "name": "python3"
  },
  "language_info": {
   "codemirror_mode": {
    "name": "ipython",
    "version": 3
   },
   "file_extension": ".py",
   "mimetype": "text/x-python",
   "name": "python",
   "nbconvert_exporter": "python",
   "pygments_lexer": "ipython3",
   "version": "3.5.3"
  }
 },
 "nbformat": 4,
 "nbformat_minor": 2
}
