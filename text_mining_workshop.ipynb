{
 "cells": [
  {
   "cell_type": "markdown",
   "metadata": {},
   "source": [
    "# Text Mining Workshop Notebook\n",
    "This will be the notebook that we use for the text mining lesson. The past lesson is the other Jupyter notebook in this repository, `ucsd_newspapers.ipynb`"
   ]
  },
  {
   "cell_type": "code",
   "execution_count": 2,
   "metadata": {},
   "outputs": [],
   "source": [
    "import os\n",
    "import numpy as np\n",
    "import pandas as pd\n",
    "import nltk\n",
    "import nltk.data"
   ]
  },
  {
   "cell_type": "code",
   "execution_count": 3,
   "metadata": {},
   "outputs": [],
   "source": [
    "# We need to point to nltk pre-trained data we have in this repo\n",
    "sent_detector = nltk.data.load('nltk_data/english.pickle')\n"
   ]
  },
  {
   "cell_type": "code",
   "execution_count": 10,
   "metadata": {},
   "outputs": [],
   "source": [
    "sentences = text = '''\n",
    "    Punkt knows that the periods in Mr. Smith and Johann S. Bach do not mark sentence boundaries.  \n",
    "    And sometimes sentences can start with non-capitalized words.  i is a good variable name. \"And now for something completely different\" \n",
    "    '''"
   ]
  },
  {
   "cell_type": "code",
   "execution_count": 11,
   "metadata": {},
   "outputs": [
    {
     "name": "stdout",
     "output_type": "stream",
     "text": [
      "Punkt knows that the periods in Mr. Smith and Johann S. Bach do not mark sentence boundaries.\n",
      "\n",
      "And sometimes sentences can start with non-capitalized words.\n",
      "\n",
      "i is a good variable name.\n",
      "\n",
      "\"And now for something completely different\"\n"
     ]
    }
   ],
   "source": [
    "print('\\n\\n'.join(sent_detector.tokenize(text.strip())))"
   ]
  },
  {
   "cell_type": "code",
   "execution_count": null,
   "metadata": {},
   "outputs": [],
   "source": []
  }
 ],
 "metadata": {
  "kernelspec": {
   "display_name": "Python 3",
   "language": "python",
   "name": "python3"
  },
  "language_info": {
   "codemirror_mode": {
    "name": "ipython",
    "version": 3
   },
   "file_extension": ".py",
   "mimetype": "text/x-python",
   "name": "python",
   "nbconvert_exporter": "python",
   "pygments_lexer": "ipython3",
   "version": "3.6.5"
  }
 },
 "nbformat": 4,
 "nbformat_minor": 2
}
