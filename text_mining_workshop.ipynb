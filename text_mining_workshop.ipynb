{
 "cells": [
  {
   "cell_type": "markdown",
   "metadata": {},
   "source": [
    "# Text Mining Workshop Notebook\n",
    "This will be the notebook that we use for the text mining lesson. The past lesson is the other Jupyter notebook in this repository, `ucsd_newspapers.ipynb`"
   ]
  },
  {
   "cell_type": "code",
   "execution_count": 42,
   "metadata": {},
   "outputs": [],
   "source": [
    "import os\n",
    "import re\n",
    "import numpy as np\n",
    "import pandas as pd\n",
    "import nltk\n",
    "import nltk.data"
   ]
  },
  {
   "cell_type": "markdown",
   "metadata": {},
   "source": [
    "# Intro to Basic NLTK Usage: Finding Word Frequency\n",
    "This intro to the [Natural Language Toolkit](http://www.nltk.org/book/ch01.html) will walk us through the basics of finding word frequency. It's a bit more advanced than earlier pre-processing, but teaches how to properly import/alias python libraries, as well as grasp what a library's methods do. And of course, it introduces you NLTK!"
   ]
  },
  {
   "cell_type": "markdown",
   "metadata": {},
   "source": [
    "## First: Loading the Text Data\n",
    "We have the full text corpus of text files in the root directory of this repo: `/newspaper_data/`. We should find out how many files there are.  \n",
    "\n",
    "In Jupyter, we can use Unix/Bash code by starting the code cell with a 'bang', or exclamation point `!`. We will use a 'pipe' character `|` to chain two commands together: `ls` which would list a directory's contents, a line for each file (in this case, the total newspaper text files in `/newspaper_data/`), but instead of listing them all, we will feed this information into the second command, `wc -l`, which will count the number of lines from the first command."
   ]
  },
  {
   "cell_type": "code",
   "execution_count": 43,
   "metadata": {},
   "outputs": [
    {
     "name": "stdout",
     "output_type": "stream",
     "text": [
      "ls: cannot access 'newspaper_data': No such file or directory\n",
      "0\n"
     ]
    }
   ],
   "source": [
    "!ls newspaper_data | wc -l"
   ]
  },
  {
   "cell_type": "markdown",
   "metadata": {},
   "source": [
    "So, there are 2,915 files. Wow! Let's look at one"
   ]
  },
  {
   "cell_type": "code",
   "execution_count": 44,
   "metadata": {},
   "outputs": [
    {
     "name": "stdout",
     "output_type": "stream",
     "text": [
      "head: cannot open 'newspaper_data/2002-05-20.txt' for reading: No such file or directory\n"
     ]
    }
   ],
   "source": [
    "!head -50 newspaper_data/2002-05-20.txt"
   ]
  },
  {
   "cell_type": "markdown",
   "metadata": {},
   "source": [
    "Instead of using Bash/Unix to read the file, let's do it in python. For this, just like in Bash, we need to tell python where to change directories to. We do this with the `os` (short for operating system) python library we imported at the top, via the `chdir()` (short for change directory) function.  \n",
    "\n",
    "Next, we need to open the file and have it read into memory. This is done via the `open()` function to open the file, then the `read()` file for python to read it"
   ]
  },
  {
   "cell_type": "code",
   "execution_count": 48,
   "metadata": {},
   "outputs": [
    {
     "name": "stdout",
     "output_type": "stream",
     "text": [
      "/home/zelgius/Github/text-mining-workshop/newspaper_data\n"
     ]
    }
   ],
   "source": [
    "print(os.getcwd())"
   ]
  },
  {
   "cell_type": "code",
   "execution_count": 49,
   "metadata": {},
   "outputs": [
    {
     "data": {
      "text/plain": [
       "'\\nSKIMPY SPENDING \\nThe new federal budget for education puts the burden of higher education on college students\\' wallets. \\n\\nsee Opinion, page 4 \\n\\nCirculation \\n11,000 \\n\\nUC SAN DIEGO \\n\\nUndergrad \\nresearch \\npresented \\n90 students show \\noff their findings \\nBy BRIAN LAUTER \\nContributing Writer \\n\\nMore than 90 UCSD undergrad-\\nuates presented research papers \\nSaturday at the 15th annual UCSD \\nUndergraduate Research \\nConference, held at the Faculty \\nClub. \\n\\nStudents were organized into 17 \\nroundtable discussions for the pre-\\nsentations, each presided over by a \\nfaculty member. The roundtables, \\nwith topics ranging from chemistry \\nto political science, included student \\npresentations followed by group dis-\\ncussions in which visitors were \\nencouraged to participate. \\n\\nConference organizers said that \\nthe UCSD Undergraduate Research \\nConference as a whole was an \\nopportunity to celebrate undergrad-\\nuates at UCSD. \\n\\n\"So many of the things here at \\nUCSD regarding research are from \\ngraduate students - or faculty, of \\ncourse,\" said coordinator Darlene \\nSalmon. \"But this day is all about \\nundergraduate students doing \\nresearch and also the student life \\nhere at UCSD.\" \\n\\nThe roundtable, presided over \\nby sociology professor Leon \\nZamosc, centered on presentations \\nregarding issues relevant to college \\nstudents. \\n\\n\"Every year we learn more about \\nstudent life, culture, student values, \\nthe problems of the students and \\nabout particular sectors of students,\" \\nZamosc said. \\n\\nThis year, \"Drinking, Driving \\nand Peer Interventions,\" presented \\nby Sara Andrews of Eleanor \\nRoosevelt College, explored gender \\ndifferences in peer drunken driving \\nintervention among college-age stu-\\ndents. \\n\\nThrough a series of interviews \\nand participant observation, \\nAndrews concluded that men were \\nmore apt to use physical restraint to \\nprevent drunken driving, while \\nwomen felt less comfortable being as \\nforceful. Instead, Andrews said \\nwomen used psychological tactics \\nmore often, and as a whole were less '"
      ]
     },
     "execution_count": 49,
     "metadata": {},
     "output_type": "execute_result"
    }
   ],
   "source": [
    "# The first time we run this, we need to change directory via: os.chdir('newspaper_data')\n",
    "with open('2002-05-20.txt', 'r') as fp:\n",
    "    content = fp.read()\n",
    "    \n",
    "content[:2000]"
   ]
  },
  {
   "cell_type": "markdown",
   "metadata": {},
   "source": [
    "## Pre-processing the Text\n",
    "Although NLTK can handle some fairly messy text, it will not handle a very common occurrence in newspaper text... that is, the end of a line being hypenated, followed by a newline. We will need to filter that from our text. We can create a function to do this via regular expressions, which in python is done with the `re` library via the `re.sub()` method\n"
   ]
  },
  {
   "cell_type": "code",
   "execution_count": 66,
   "metadata": {},
   "outputs": [
    {
     "data": {
      "text/plain": [
       "'\\nSKIMPY SPENDING \\nThe new federal budget for education puts the burden of higher education on college students\\' wallets. \\n\\nsee Opinion, page 4 \\n\\nCirculation \\n11,000 \\n\\nUC SAN DIEGO \\n\\nUndergrad \\nresearch \\npresented \\n90 students show \\noff their findings \\nBy BRIAN LAUTER \\nContributing Writer \\n\\nMore than 90 UCSD undergraduates presented research papers \\nSaturday at the 15th annual UCSD \\nUndergraduate Research \\nConference, held at the Faculty \\nClub. \\n\\nStudents were organized into 17 \\nroundtable discussions for the presentations, each presided over by a \\nfaculty member. The roundtables, \\nwith topics ranging from chemistry \\nto political science, included student \\npresentations followed by group discussions in which visitors were \\nencouraged to participate. \\n\\nConference organizers said that \\nthe UCSD Undergraduate Research \\nConference as a whole was an \\nopportunity to celebrate undergraduates at UCSD. \\n\\n\"So many of the things here at \\nUCSD regarding research are from \\ngraduate students - or faculty, of \\ncourse,\" said coordinator Darlene \\nSalmon. \"But this day is all about \\nundergraduate students doing \\nresearch and also the student life \\nhere at UCSD.\" \\n\\nThe roundtable, presided over \\nby sociology professor Leon \\nZamosc, centered on presentations \\nregarding issues relevant to college \\nstudents. \\n\\n\"Every year we learn more about \\nstudent life, culture, student values, \\nthe problems of the students and \\nabout particular sectors of students,\" \\nZamosc said. \\n\\nThis year, \"Drinking, Driving \\nand Peer Interventions,\" presented \\nby Sara Andrews of Eleanor \\nRoosevelt College, explored gender \\ndifferences in peer drunken driving \\nintervention among college-age students. \\n\\nThrough a series of interviews \\nand participant observation, \\nAndrews concluded that men were \\nmore apt to use physical restraint to \\nprevent drunken driving, while \\nwomen felt less comfortable being as \\nforceful. Instead, Andrews said \\nwomen used psychological tactics \\nmore often, and as a whole were less \\nlikely to'"
      ]
     },
     "execution_count": 66,
     "metadata": {},
     "output_type": "execute_result"
    }
   ],
   "source": [
    "def preprocess(text):\n",
    "    return re.sub('\\-\\n+', '', text)\n",
    "\n",
    "content = preprocess(content)\n",
    "content[:2000]"
   ]
  },
  {
   "cell_type": "markdown",
   "metadata": {},
   "source": [
    "You can see we have single digits, and it's a good guess that we'll have many more in the text. We can filter those out similar to our prepreocessing function"
   ]
  },
  {
   "cell_type": "code",
   "execution_count": 68,
   "metadata": {},
   "outputs": [
    {
     "data": {
      "text/plain": [
       "'\\nSKIMPY SPENDING \\nThe new federal budget for education puts the burden of higher education on college students\\' wallets. \\n\\nsee Opinion, page  \\n\\nCirculation \\n, \\n\\nUC SAN DIEGO \\n\\nUndergrad \\nresearch \\npresented \\n students show \\noff their findings \\nBy BRIAN LAUTER \\nContributing Writer \\n\\nMore than  UCSD undergraduates presented research papers \\nSaturday at the th annual UCSD \\nUndergraduate Research \\nConference, held at the Faculty \\nClub. \\n\\nStudents were organized into  \\nroundtable discussions for the presentations, each presided over by a \\nfaculty member. The roundtables, \\nwith topics ranging from chemistry \\nto political science, included student \\npresentations followed by group discussions in which visitors were \\nencouraged to participate. \\n\\nConference organizers said that \\nthe UCSD Undergraduate Research \\nConference as a whole was an \\nopportunity to celebrate undergraduates at UCSD. \\n\\n\"So many of the things here at \\nUCSD regarding research are from \\ngraduate students - or faculty, of \\ncourse,\" said coordinator Darlene \\nSalmon. \"But this day is all about \\nundergraduate students doing \\nresearch and also the student life \\nhere at UCSD.\" \\n\\nThe roundtable, presided over \\nby sociology professor Leon \\nZamosc, centered on presentations \\nregarding issues relevant to college \\nstudents. \\n\\n\"Every year we learn more about \\nstudent life, culture, student values, \\nthe problems of the students and \\nabout particular sectors of students,\" \\nZamosc said. \\n\\nThis year, \"Drinking, Driving \\nand Peer Interventions,\" presented \\nby Sara Andrews of Eleanor \\nRoosevelt College, explored gender \\ndifferences in peer drunken driving \\nintervention among college-age students. \\n\\nThrough a series of interviews \\nand participant observation, \\nAndrews concluded that men were \\nmore apt to use physical restraint to \\nprevent drunken driving, while \\nwomen felt less comfortable being as \\nforceful. Instead, Andrews said \\nwomen used psychological tactics \\nmore often, and as a whole were less \\nlikely to physically in'"
      ]
     },
     "execution_count": 68,
     "metadata": {},
     "output_type": "execute_result"
    }
   ],
   "source": [
    "def denumber(text):\n",
    "    return re.sub('[0-9]', '', text)\n",
    "\n",
    "content = denumber(content)\n",
    "content[:2000]"
   ]
  },
  {
   "cell_type": "markdown",
   "metadata": {},
   "source": [
    "## Using NLTK to Tokenize the Text\n",
    "We see a whole lot of 'newline' (`\\n`) characters in the text. We could manually strip those out and do other formatting of the text. Luckily, NLTK has built-in methods to do a lot of this stuff for us. We can start by \"tokenizing\" the text. We'll have to split it at the word boundaries, which can be passed to the tokenizer function via the regular expression `'\\w+'` "
   ]
  },
  {
   "cell_type": "code",
   "execution_count": 69,
   "metadata": {},
   "outputs": [
    {
     "name": "stdout",
     "output_type": "stream",
     "text": [
      "['SKIMPY', 'SPENDING', 'The', 'new', 'federal', 'budget', 'for', 'education', 'puts', 'the', 'burden', 'of', 'higher', 'education', 'on', 'college', 'students', 'wallets', 'see', 'Opinion', 'page', 'Circulation', 'UC', 'SAN', 'DIEGO', 'Undergrad', 'research', 'presented', 'students', 'show', 'off', 'their', 'findings', 'By', 'BRIAN', 'LAUTER', 'Contributing', 'Writer', 'More', 'than', 'UCSD', 'undergraduates', 'presented', 'research', 'papers', 'Saturday', 'at', 'the', 'th', 'annual', 'UCSD', 'Undergraduate', 'Research', 'Conference', 'held', 'at', 'the', 'Faculty', 'Club', 'Students', 'were', 'organized', 'into', 'roundtable', 'discussions', 'for', 'the', 'presentations', 'each', 'presided', 'over', 'by', 'a', 'faculty', 'member', 'The', 'roundtables', 'with', 'topics', 'ranging', 'from', 'chemistry', 'to', 'political', 'science', 'included', 'student', 'presentations', 'followed', 'by', 'group', 'discussions', 'in', 'which', 'visitors', 'were', 'encouraged', 'to', 'participate']\n"
     ]
    }
   ],
   "source": [
    "# Creating a tokenizer\n",
    "tokenizer = nltk.tokenize.RegexpTokenizer('\\w+')\n",
    "\n",
    "# Tokenizing the text\n",
    "tokens = tokenizer.tokenize(content)\n",
    "\n",
    "# Printing out the first 100 words / tokens \n",
    "print(tokens[0:99])"
   ]
  },
  {
   "cell_type": "markdown",
   "metadata": {},
   "source": [
    "## Making the Text Uniform (Lowercase)\n",
    "We can see there are all caps words, as well as words that have initial capitlization. We'll want all the words to be uniform, which means we should lowecase them all. Python does this via the method `.lower()` "
   ]
  },
  {
   "cell_type": "code",
   "execution_count": 70,
   "metadata": {},
   "outputs": [
    {
     "name": "stdout",
     "output_type": "stream",
     "text": [
      "['skimpy', 'spending', 'the', 'new', 'federal', 'budget', 'for', 'education', 'puts', 'the', 'burden', 'of', 'higher', 'education', 'on', 'college', 'students', 'wallets', 'see', 'opinion', 'page', 'circulation', 'uc', 'san', 'diego', 'undergrad', 'research', 'presented', 'students', 'show', 'off', 'their', 'findings', 'by', 'brian', 'lauter', 'contributing', 'writer', 'more', 'than', 'ucsd', 'undergraduates', 'presented', 'research', 'papers', 'saturday', 'at', 'the', 'th', 'annual', 'ucsd', 'undergraduate', 'research', 'conference', 'held', 'at', 'the', 'faculty', 'club', 'students', 'were', 'organized', 'into', 'roundtable', 'discussions', 'for', 'the', 'presentations', 'each', 'presided', 'over', 'by', 'a', 'faculty', 'member', 'the', 'roundtables', 'with', 'topics', 'ranging', 'from', 'chemistry', 'to', 'political', 'science', 'included', 'student', 'presentations', 'followed', 'by', 'group', 'discussions', 'in', 'which', 'visitors', 'were', 'encouraged', 'to', 'participate']\n"
     ]
    }
   ],
   "source": [
    "# A new list to hold the lowercased words\n",
    "words = []\n",
    "\n",
    "# Looping through the tokens and make them lower case\n",
    "for word in tokens:\n",
    "    words.append(word.lower())\n",
    "    continue\n",
    "    \n",
    "# Printing out the first 100 words / tokens \n",
    "print(words[0:99])"
   ]
  },
  {
   "cell_type": "markdown",
   "metadata": {},
   "source": [
    "## Load in Stop Words\n",
    "Stop words, in English, are words that don't convey much meaning for our analysis. Examples are articles like 'the', or prepositions like 'with'. NLTK once again has a whole built-in list of stop words so we can filter these out of our text "
   ]
  },
  {
   "cell_type": "code",
   "execution_count": 71,
   "metadata": {},
   "outputs": [
    {
     "name": "stdout",
     "output_type": "stream",
     "text": [
      "['i', 'me', 'my', 'myself', 'we', 'our', 'ours']\n"
     ]
    }
   ],
   "source": [
    "'''Getting the English stop words from nltk\n",
    "NOTE: If an error tells you to download the data, run: \n",
    "nltk.download('stopwords')'''\n",
    "sw = nltk.corpus.stopwords.words('english')\n",
    "\n",
    "# Printing out the first eight stop words\n",
    "print(sw[0:7])"
   ]
  },
  {
   "cell_type": "markdown",
   "metadata": {},
   "source": [
    "## Remove Stop Words\n",
    "Now we will filter stop words from our text. If we break down our task, now that we have a large list of stop words, we will need to tell python we need all the words in our text that are _not_ in our list of stop words. You guessed it, we need another list and a `for` loop"
   ]
  },
  {
   "cell_type": "code",
   "execution_count": 72,
   "metadata": {},
   "outputs": [
    {
     "name": "stdout",
     "output_type": "stream",
     "text": [
      "['skimpy', 'spending', 'new', 'federal', 'budget', 'education', 'puts', 'burden', 'higher', 'education', 'college', 'students', 'wallets', 'see', 'opinion', 'page', 'circulation', 'uc', 'san', 'diego', 'undergrad', 'research', 'presented', 'students', 'show', 'findings', 'brian', 'lauter', 'contributing', 'writer', 'ucsd', 'undergraduates', 'presented', 'research', 'papers', 'saturday', 'th', 'annual', 'ucsd', 'undergraduate', 'research', 'conference', 'held', 'faculty', 'club', 'students', 'organized', 'roundtable', 'discussions', 'presentations', 'presided', 'faculty', 'member', 'roundtables', 'topics', 'ranging', 'chemistry', 'political', 'science', 'included', 'student', 'presentations', 'followed', 'group', 'discussions', 'visitors', 'encouraged', 'participate', 'conference', 'organizers', 'said', 'ucsd', 'undergraduate', 'research', 'conference', 'whole', 'opportunity', 'celebrate', 'undergraduates', 'ucsd', 'many', 'things', 'ucsd', 'regarding', 'research', 'graduate', 'students', 'faculty', 'course', 'said', 'coordinator', 'darlene', 'salmon', 'day', 'undergraduate', 'students', 'research', 'also', 'student']\n"
     ]
    }
   ],
   "source": [
    "# A new list that will hold our text with no Stop Words\n",
    "words_ns = []\n",
    "\n",
    "# Appending to words_ns all words that are in words but not in sw\n",
    "for word in words:\n",
    "    if word not in sw:\n",
    "        words_ns.append(word)\n",
    "\n",
    "# Printing the first 100 words_ns to check that stop words are gone\n",
    "print(words_ns[0:99])"
   ]
  },
  {
   "cell_type": "markdown",
   "metadata": {},
   "source": [
    "## Visualizing Word Frequency \n",
    "We now have a relatively clean corpus of words (`words_ns`), and can find some interesting things in the data.  \n",
    "\n",
    "To find word frequency, we can use NLTK's [Frequency Distribution Function](http://www.nltk.org/book/ch01.html#frequency-distributions). This will automatically plot the most highly-occurring words for us, but we must pass in as an argument how many words we would like to see. Let's look at the top 25 words"
   ]
  },
  {
   "cell_type": "code",
   "execution_count": 73,
   "metadata": {},
   "outputs": [
    {
     "data": {
      "image/png": "[encoded data removed]",
      "text/plain": [
       "<Figure size 432x288 with 1 Axes>"
      ]
     },
     "metadata": {},
     "output_type": "display_data"
    }
   ],
   "source": [
    "# This command display figures inline for jupyter\n",
    "%matplotlib inline\n",
    "\n",
    "# Creating the word frequency distribution\n",
    "freqdist = nltk.FreqDist(words_ns)\n",
    "\n",
    "# Plotting the word frequency distribution\n",
    "freqdist.plot(25)"
   ]
  },
  {
   "cell_type": "markdown",
   "metadata": {},
   "source": [
    "## Punkt Usage\n",
    "Punkt from NLTK can help us do some really sophisticated pre-trained stuff in order to figure out word boundaries"
   ]
  },
  {
   "cell_type": "code",
   "execution_count": 3,
   "metadata": {},
   "outputs": [],
   "source": [
    "# We need to point to nltk pre-trained data we have in this repo\n",
    "sent_detector = nltk.data.load('nltk_data/english.pickle')\n"
   ]
  },
  {
   "cell_type": "code",
   "execution_count": 10,
   "metadata": {},
   "outputs": [],
   "source": [
    "sentences = text = '''\n",
    "    Punkt knows that the periods in Mr. Smith and Johann S. Bach do not mark sentence boundaries.  \n",
    "    And sometimes sentences can start with non-capitalized words.  i is a good variable name. \"And now for something completely different\" \n",
    "    '''"
   ]
  },
  {
   "cell_type": "code",
   "execution_count": 11,
   "metadata": {},
   "outputs": [
    {
     "name": "stdout",
     "output_type": "stream",
     "text": [
      "Punkt knows that the periods in Mr. Smith and Johann S. Bach do not mark sentence boundaries.\n",
      "\n",
      "And sometimes sentences can start with non-capitalized words.\n",
      "\n",
      "i is a good variable name.\n",
      "\n",
      "\"And now for something completely different\"\n"
     ]
    }
   ],
   "source": [
    "print('\\n\\n'.join(sent_detector.tokenize(text.strip())))"
   ]
  },
  {
   "cell_type": "code",
   "execution_count": null,
   "metadata": {},
   "outputs": [],
   "source": []
  }
 ],
 "metadata": {
  "kernelspec": {
   "display_name": "Python 3",
   "language": "python",
   "name": "python3"
  },
  "language_info": {
   "codemirror_mode": {
    "name": "ipython",
    "version": 3
   },
   "file_extension": ".py",
   "mimetype": "text/x-python",
   "name": "python",
   "nbconvert_exporter": "python",
   "pygments_lexer": "ipython3",
   "version": "3.6.5"
  }
 },
 "nbformat": 4,
 "nbformat_minor": 2
}
